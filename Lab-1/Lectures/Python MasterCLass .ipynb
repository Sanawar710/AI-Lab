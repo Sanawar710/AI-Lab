{
 "cells": [
  {
   "cell_type": "markdown",
   "id": "e7a3b5b2",
   "metadata": {},
   "source": [
    "1) Basics: Variables, Types, Printing\n",
    "\n",
    "Python uses indentation (4 spaces).\n",
    "\n",
    "Variables don’t need explicit type declaration (dynamic typing).\n",
    "\n",
    "Built-in types: int, float, bool, str, None"
   ]
  },
  {
   "cell_type": "code",
   "execution_count": 1,
   "id": "13c6d195",
   "metadata": {},
   "outputs": [
    {
     "name": "stdout",
     "output_type": "stream",
     "text": [
      "Hello, Python!\n",
      "<class 'int'> <class 'float'> <class 'bool'> <class 'NoneType'>\n"
     ]
    }
   ],
   "source": [
    "msg = \"Hello, Python!\"\n",
    "n, x, flag, nothing = 42, 3.14, True, None\n",
    "\n",
    "print(msg)\n",
    "print(type(n), type(x), type(flag), type(nothing))\n"
   ]
  },
  {
   "cell_type": "markdown",
   "id": "e8d0738c",
   "metadata": {},
   "source": [
    "2) Numbers & Strings\n",
    "\n",
    "Arithmetic operators: + - * / // % **\n",
    "\n",
    "math library for advanced operations.\n",
    "\n",
    "Strings support slicing, indexing, and methods.\n",
    "\n",
    "f-strings allow formatted output."
   ]
  },
  {
   "cell_type": "code",
   "execution_count": 2,
   "id": "e565d8a7",
   "metadata": {},
   "outputs": [
    {
     "name": "stdout",
     "output_type": "stream",
     "text": [
      "10 4 21 2.3333333333333335 2 1 343\n",
      "3.142\n",
      "PYTHON ESSENTIALS\n",
      "D e Science\n",
      "Talha scored 95.7%\n"
     ]
    }
   ],
   "source": [
    "import math\n",
    "\n",
    "a, b = 7, 3\n",
    "print(a+b, a-b, a*b, a/b, a//b, a%b, a**b)\n",
    "print(round(math.pi, 3))\n",
    "\n",
    "s = \"  Python Essentials  \"\n",
    "print(s.strip().upper())\n",
    "\n",
    "t = \"Data Science\"\n",
    "print(t[0], t[-1], t[5:12])\n",
    "\n",
    "name, score = \"Talha\", 95.678\n",
    "print(f\"{name} scored {score:.1f}%\")\n"
   ]
  },
  {
   "cell_type": "markdown",
   "id": "ff04a844",
   "metadata": {},
   "source": [
    "3) Data Structures\n",
    "\n",
    "List: ordered, mutable.\n",
    "\n",
    "Tuple: ordered, immutable.\n",
    "\n",
    "Set: unordered, unique elements.\n",
    "\n",
    "Dict: key–value pairs."
   ]
  },
  {
   "cell_type": "code",
   "execution_count": 3,
   "id": "ba689c90",
   "metadata": {},
   "outputs": [
    {
     "name": "stdout",
     "output_type": "stream",
     "text": [
      "[1, 1, 3, 4, 5, 9]\n",
      "(10, 20) 10\n",
      "{1, 2, 3, 4} True\n",
      "{'name': 'Ayesha', 'age': 22, 'skills': ['python', 'ml']} Ayesha\n"
     ]
    }
   ],
   "source": [
    "nums = [3, 1, 4]\n",
    "nums.append(1)\n",
    "nums.extend([5, 9])\n",
    "nums.sort()\n",
    "print(nums)\n",
    "\n",
    "point = (10, 20)  # tuple\n",
    "print(point, point[0])\n",
    "\n",
    "items = {1, 2, 2, 3}\n",
    "items.add(4)\n",
    "print(items, 2 in items)\n",
    "\n",
    "student = {\"name\": \"Ayesha\", \"age\": 22}\n",
    "student[\"skills\"] = [\"python\", \"ml\"]\n",
    "print(student, student[\"name\"])\n"
   ]
  },
  {
   "cell_type": "markdown",
   "id": "1435fec2",
   "metadata": {},
   "source": [
    "4) Control Flow (if/else)\n",
    "\n",
    "Conditions decide which code block runs.\n",
    "\n",
    "Chained comparisons make code shorter."
   ]
  },
  {
   "cell_type": "code",
   "execution_count": 5,
   "id": "64ff2bb8",
   "metadata": {},
   "outputs": [
    {
     "name": "stdout",
     "output_type": "stream",
     "text": [
      "x is a single-digit positive number\n"
     ]
    }
   ],
   "source": [
    "x = 8\n",
    "if 0 < x < 10:\n",
    "    print(\"x is a single-digit positive number\")\n",
    "elif x <= 0:\n",
    "    print(\"non-positive\")\n",
    "else:\n",
    "    print(\">= 10\")\n"
   ]
  },
  {
   "cell_type": "markdown",
   "id": "ddba54ee",
   "metadata": {},
   "source": [
    "5) Loops\n",
    "\n",
    "for iterates over sequences.\n",
    "\n",
    "while repeats while condition is true.\n",
    "\n",
    "break exits loop, continue skips one iteration."
   ]
  },
  {
   "cell_type": "code",
   "execution_count": 6,
   "id": "0b26bba1",
   "metadata": {},
   "outputs": [
    {
     "name": "stdout",
     "output_type": "stream",
     "text": [
      "0 1 2 4 \n",
      "n: 0\n",
      "n: 1\n"
     ]
    }
   ],
   "source": [
    "for i in range(5):\n",
    "    if i == 3:\n",
    "        continue\n",
    "    print(i, end=\" \")\n",
    "print()\n",
    "\n",
    "n = 0\n",
    "while n < 3:\n",
    "    if n == 2:\n",
    "        break\n",
    "    print(\"n:\", n)\n",
    "    n += 1\n"
   ]
  },
  {
   "cell_type": "markdown",
   "id": "cff91da0",
   "metadata": {},
   "source": [
    "6) Comprehensions\n",
    "\n",
    "Short way to create lists, sets, and dicts"
   ]
  },
  {
   "cell_type": "code",
   "execution_count": 7,
   "id": "ca713bfe",
   "metadata": {},
   "outputs": [
    {
     "name": "stdout",
     "output_type": "stream",
     "text": [
      "[1, 4, 9, 16, 25]\n",
      "{2, 4}\n",
      "{1: 0, 2: 1, 3: 2, 4: 3, 5: 4}\n"
     ]
    }
   ],
   "source": [
    "vals = [1, 2, 3, 4, 5]\n",
    "squares = [v*v for v in vals]\n",
    "evens = {v for v in vals if v % 2 == 0}\n",
    "index_map = {v: i for i, v in enumerate(vals)}\n",
    "\n",
    "print(squares)\n",
    "print(evens)\n",
    "print(index_map)\n"
   ]
  },
  {
   "cell_type": "markdown",
   "id": "f4152df9",
   "metadata": {},
   "source": [
    "7) Functions\n",
    "\n",
    "Reusable blocks of code.\n",
    "\n",
    "Can have default values and return results.\n",
    "\n",
    "Docstrings explain purpose."
   ]
  },
  {
   "cell_type": "code",
   "execution_count": 8,
   "id": "a9d21dd3",
   "metadata": {},
   "outputs": [
    {
     "name": "stdout",
     "output_type": "stream",
     "text": [
      "Hello, Talha!\n",
      "HELLO, TALHA!\n"
     ]
    }
   ],
   "source": [
    "def greet(name: str, loud: bool = False) -> str:\n",
    "    \"\"\"Return a greeting. Set loud=True for uppercase.\"\"\"\n",
    "    msg = f\"Hello, {name}!\"\n",
    "    return msg.upper() if loud else msg\n",
    "\n",
    "print(greet(\"Talha\"))\n",
    "print(greet(\"Talha\", loud=True))\n"
   ]
  },
  {
   "cell_type": "markdown",
   "id": "bbad5ef5",
   "metadata": {},
   "source": [
    "8) Modules & Imports\n",
    "\n",
    "Import Python’s standard library or custom modules."
   ]
  },
  {
   "cell_type": "code",
   "execution_count": 9,
   "id": "dcca1966",
   "metadata": {},
   "outputs": [
    {
     "name": "stdout",
     "output_type": "stream",
     "text": [
      "Mean: 5\n",
      "Median: 4.5\n"
     ]
    }
   ],
   "source": [
    "import statistics as stats\n",
    "\n",
    "data = [2, 4, 4, 4, 5, 5, 7, 9]\n",
    "print(\"Mean:\", stats.mean(data))\n",
    "print(\"Median:\", stats.median(data))\n"
   ]
  },
  {
   "cell_type": "markdown",
   "id": "f2100547",
   "metadata": {},
   "source": [
    "9) Exceptions\n",
    "\n",
    "Use try/except to handle errors without crashing"
   ]
  },
  {
   "cell_type": "code",
   "execution_count": 10,
   "id": "adeaf1ea",
   "metadata": {},
   "outputs": [
    {
     "name": "stdout",
     "output_type": "stream",
     "text": [
      "5.0\n",
      "inf\n"
     ]
    }
   ],
   "source": [
    "def safe_div(a, b):\n",
    "    try:\n",
    "        return a / b\n",
    "    except ZeroDivisionError:\n",
    "        return float(\"inf\")\n",
    "\n",
    "print(safe_div(10, 2))\n",
    "print(safe_div(1, 0))\n"
   ]
  },
  {
   "cell_type": "markdown",
   "id": "95069902",
   "metadata": {},
   "source": [
    "10) Files\n",
    "\n",
    "Always use with for automatic closing.\n",
    "\n",
    "Supports text, CSV, and JSON."
   ]
  },
  {
   "cell_type": "code",
   "execution_count": 11,
   "id": "6ec7ef97",
   "metadata": {},
   "outputs": [
    {
     "name": "stdout",
     "output_type": "stream",
     "text": [
      "First line\n",
      "Second line\n",
      "name,age\n",
      "Ali,30\n",
      "Sara,28\n",
      "\n",
      "{\n",
      "  \"debug\": true,\n",
      "  \"threshold\": 0.75\n",
      "}\n"
     ]
    }
   ],
   "source": [
    "from pathlib import Path\n",
    "import csv, json\n",
    "\n",
    "# Text\n",
    "path = Path(\"demo.txt\")\n",
    "path.write_text(\"First line\\nSecond line\")\n",
    "print(path.read_text())\n",
    "\n",
    "# CSV\n",
    "csv_path = Path(\"mini.csv\")\n",
    "rows = [{'name':'Ali','age':30}, {'name':'Sara','age':28}]\n",
    "with csv_path.open('w', newline='') as f:\n",
    "    w = csv.DictWriter(f, fieldnames=['name','age'])\n",
    "    w.writeheader()\n",
    "    w.writerows(rows)\n",
    "print(csv_path.read_text())\n",
    "\n",
    "# JSON\n",
    "json_path = Path(\"mini.json\")\n",
    "json_path.write_text(json.dumps({'debug': True, 'threshold': 0.75}, indent=2))\n",
    "print(json_path.read_text())\n"
   ]
  },
  {
   "cell_type": "markdown",
   "id": "aca83754",
   "metadata": {},
   "source": [
    "11) Iterators & Generators\n",
    "\n",
    "Generators use yield to produce values one by one"
   ]
  },
  {
   "cell_type": "code",
   "execution_count": 12,
   "id": "685406e2",
   "metadata": {},
   "outputs": [
    {
     "name": "stdout",
     "output_type": "stream",
     "text": [
      "[5, 4, 3, 2, 1]\n"
     ]
    }
   ],
   "source": [
    "def countdown(n):\n",
    "    while n > 0:\n",
    "        yield n\n",
    "        n -= 1\n",
    "\n",
    "print(list(countdown(5)))\n"
   ]
  },
  {
   "cell_type": "markdown",
   "id": "dbdf79ee",
   "metadata": {},
   "source": [
    "12) OOP Basics\n",
    "\n",
    "Classes combine data and methods.\n",
    "\n",
    "@property gives controlled access.\n",
    "\n",
    "Special methods (__init__, __repr__) define behavior."
   ]
  },
  {
   "cell_type": "code",
   "execution_count": 14,
   "id": "11ea8dcb",
   "metadata": {},
   "outputs": [
    {
     "name": "stdout",
     "output_type": "stream",
     "text": [
      "BankAccount(owner='Talha', balance=1130.00)\n"
     ]
    }
   ],
   "source": [
    "class BankAccount:\n",
    "    def __init__(self, owner: str, balance: float = 0.0):\n",
    "        self._owner = owner\n",
    "        self._balance = balance\n",
    "\n",
    "    @property\n",
    "    def balance(self):\n",
    "        return self._balance\n",
    "\n",
    "    def deposit(self, amount: float):\n",
    "        if amount <= 0:\n",
    "            raise ValueError(\"Deposit must be positive\")\n",
    "        self._balance += amount\n",
    "\n",
    "    def withdraw(self, amount: float):\n",
    "        if amount <= 0 or amount > self._balance:\n",
    "            raise ValueError(\"Invalid withdraw amount\")\n",
    "        self._balance -= amount\n",
    "\n",
    "    def __repr__(self):\n",
    "        return f\"BankAccount(owner={self._owner!r}, balance={self._balance:.2f})\"\n",
    "\n",
    "\n",
    "acct = BankAccount(\"Talha\", 1000)\n",
    "acct.deposit(250)\n",
    "acct.withdraw(120)\n",
    "print(acct)\n"
   ]
  },
  {
   "cell_type": "markdown",
   "id": "2f479623",
   "metadata": {},
   "source": [
    "13) Standard Library (Quick Tour)\n",
    "\n",
    "datetime for time handling.\n",
    "\n",
    "random for sampling.\n",
    "\n",
    "Counter for counting.\n",
    "\n",
    "lru_cache for memoization."
   ]
  },
  {
   "cell_type": "code",
   "execution_count": 15,
   "id": "378085dd",
   "metadata": {},
   "outputs": [
    {
     "name": "stdout",
     "output_type": "stream",
     "text": [
      "Now: 2025-09-08T22:01:59\n",
      "Tomorrow: 2025-09-09\n",
      "Random sample: [5, 4, 6]\n",
      "Most common letters: [('i', 4), ('s', 4)]\n",
      "fib(20) = 6765\n"
     ]
    }
   ],
   "source": [
    "from datetime import datetime, timedelta\n",
    "import random\n",
    "from collections import Counter\n",
    "from functools import lru_cache\n",
    "\n",
    "print(\"Now:\", datetime.now().isoformat(timespec='seconds'))\n",
    "print(\"Tomorrow:\", (datetime.now() + timedelta(days=1)).date())\n",
    "print(\"Random sample:\", random.sample(range(1, 11), 3))\n",
    "\n",
    "cnt = Counter(\"mississippi\")\n",
    "print(\"Most common letters:\", cnt.most_common(2))\n",
    "\n",
    "@lru_cache(maxsize=None)\n",
    "def fib(n: int) -> int:\n",
    "    return n if n < 2 else fib(n-1) + fib(n-2)\n",
    "\n",
    "print(\"fib(20) =\", fib(20))\n"
   ]
  },
  {
   "cell_type": "markdown",
   "id": "3335ac3f",
   "metadata": {},
   "source": [
    "14) Data Science Quickstart\n",
    "\n",
    "NumPy for math arrays.\n",
    "\n",
    "Pandas for tables.\n",
    "\n",
    "Matplotlib for visualization."
   ]
  },
  {
   "cell_type": "code",
   "execution_count": null,
   "id": "af4bad84",
   "metadata": {},
   "outputs": [],
   "source": [
    "import numpy as np, pandas as pd\n",
    "import matplotlib.pyplot as plt\n",
    "\n",
    "rng = np.random.default_rng(0)\n",
    "n = 100\n",
    "df = pd.DataFrame({\n",
    "    'age': rng.integers(18, 60, size=n),\n",
    "    'income': rng.normal(50000, 12000, size=n).round(2),\n",
    "    'purchased': rng.integers(0, 2, size=n)\n",
    "})\n",
    "\n",
    "print(df.head())\n",
    "print(df.describe())\n",
    "\n",
    "plt.scatter(df['age'], df['income'])\n",
    "plt.xlabel('Age')\n",
    "plt.ylabel('Income')\n",
    "plt.title('Age vs Income')\n",
    "plt.show()\n",
    "\n",
    "print(\"Average income by purchased flag:\")\n",
    "print(df.groupby('purchased')['income'].mean())\n"
   ]
  },
  {
   "cell_type": "code",
   "execution_count": null,
   "id": "2bc19cf1",
   "metadata": {},
   "outputs": [],
   "source": []
  }
 ],
 "metadata": {
  "kernelspec": {
   "display_name": "Python 3",
   "language": "python",
   "name": "python3"
  },
  "language_info": {
   "codemirror_mode": {
    "name": "ipython",
    "version": 3
   },
   "file_extension": ".py",
   "mimetype": "text/x-python",
   "name": "python",
   "nbconvert_exporter": "python",
   "pygments_lexer": "ipython3",
   "version": "3.8.8"
  }
 },
 "nbformat": 4,
 "nbformat_minor": 5
}
